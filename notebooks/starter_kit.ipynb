{
 "cells": [
  {
   "cell_type": "code",
   "execution_count": 59,
   "metadata": {},
   "outputs": [],
   "source": [
    "import pandas as pd\n"
   ]
  },
  {
   "attachments": {},
   "cell_type": "markdown",
   "metadata": {},
   "source": [
    "## Data exploration"
   ]
  },
  {
   "cell_type": "code",
   "execution_count": 76,
   "metadata": {},
   "outputs": [
    {
     "data": {
      "text/html": [
       "<div>\n",
       "<style scoped>\n",
       "    .dataframe tbody tr th:only-of-type {\n",
       "        vertical-align: middle;\n",
       "    }\n",
       "\n",
       "    .dataframe tbody tr th {\n",
       "        vertical-align: top;\n",
       "    }\n",
       "\n",
       "    .dataframe thead th {\n",
       "        text-align: right;\n",
       "    }\n",
       "</style>\n",
       "<table border=\"1\" class=\"dataframe\">\n",
       "  <thead>\n",
       "    <tr style=\"text-align: right;\">\n",
       "      <th></th>\n",
       "      <th>Date</th>\n",
       "      <th>Fourni</th>\n",
       "      <th>Ventes</th>\n",
       "      <th>id</th>\n",
       "    </tr>\n",
       "  </thead>\n",
       "  <tbody>\n",
       "    <tr>\n",
       "      <th>0</th>\n",
       "      <td>2020-01-02</td>\n",
       "      <td>10.0</td>\n",
       "      <td>5.0</td>\n",
       "      <td>-478139654568867546</td>\n",
       "    </tr>\n",
       "    <tr>\n",
       "      <th>1</th>\n",
       "      <td>2020-01-02</td>\n",
       "      <td>8.0</td>\n",
       "      <td>1.0</td>\n",
       "      <td>-8929187383922749181</td>\n",
       "    </tr>\n",
       "    <tr>\n",
       "      <th>2</th>\n",
       "      <td>2020-01-02</td>\n",
       "      <td>14.0</td>\n",
       "      <td>10.0</td>\n",
       "      <td>5557283775796994165</td>\n",
       "    </tr>\n",
       "    <tr>\n",
       "      <th>3</th>\n",
       "      <td>2020-01-02</td>\n",
       "      <td>2.0</td>\n",
       "      <td>0.0</td>\n",
       "      <td>5169110700785508591</td>\n",
       "    </tr>\n",
       "    <tr>\n",
       "      <th>4</th>\n",
       "      <td>2020-01-02</td>\n",
       "      <td>1.0</td>\n",
       "      <td>1.0</td>\n",
       "      <td>3502243892823802503</td>\n",
       "    </tr>\n",
       "  </tbody>\n",
       "</table>\n",
       "</div>"
      ],
      "text/plain": [
       "        Date  Fourni  Ventes                   id\n",
       "0 2020-01-02    10.0     5.0  -478139654568867546\n",
       "1 2020-01-02     8.0     1.0 -8929187383922749181\n",
       "2 2020-01-02    14.0    10.0  5557283775796994165\n",
       "3 2020-01-02     2.0     0.0  5169110700785508591\n",
       "4 2020-01-02     1.0     1.0  3502243892823802503"
      ]
     },
     "execution_count": 76,
     "metadata": {},
     "output_type": "execute_result"
    }
   ],
   "source": [
    "dataset = pd.read_csv('dataset.gz', sep=';')\n",
    "dataset.Date = pd.to_datetime(dataset.Date)\n",
    "dataset.head()"
   ]
  },
  {
   "attachments": {},
   "cell_type": "markdown",
   "metadata": {},
   "source": [
    "## Train/test split"
   ]
  },
  {
   "cell_type": "code",
   "execution_count": 83,
   "metadata": {},
   "outputs": [
    {
     "name": "stdout",
     "output_type": "stream",
     "text": [
      "(76534, 4) (6817, 4)\n"
     ]
    }
   ],
   "source": [
    "train_dataset = dataset.loc[dataset.Date < ('2023-01-01')]\n",
    "test_dataset = dataset.loc[dataset.Date >=('2023-01-01')]\n",
    "print(train_dataset.shape, test_dataset.shape)"
   ]
  },
  {
   "attachments": {},
   "cell_type": "markdown",
   "metadata": {},
   "source": [
    "## Evaluation"
   ]
  },
  {
   "cell_type": "code",
   "execution_count": 77,
   "metadata": {},
   "outputs": [],
   "source": [
    "def unsold_rate(delivered: pd.Series, sales: pd.Series) -> float:\n",
    "        \"\"\"Measures the proportion of the number of unsold publication compared \n",
    "        to the number of delivered publication.\n",
    "\n",
    "        Args:\n",
    "            delivered: List of delivered publications.\n",
    "            sales: List of sold publications.\n",
    "\n",
    "        Returns:\n",
    "            float: The unsold rate.\n",
    "        \"\"\"\n",
    "        return (delivered.sum() - sales.sum()) / delivered.sum()\n",
    "\n",
    "\n",
    "def sold_out_rate(delivered: pd.Series, sales: pd.Series) -> float:\n",
    "        \"\"\"Measures the frequency of sold out cases.\n",
    "        \n",
    "        Args:\n",
    "            delivered: List of delivered publications.\n",
    "            sales: List of sold publications.\n",
    "\n",
    "        Returns:\n",
    "            float: The sold out rate.\n",
    "        \"\"\"\n",
    "        return (delivered == sales).sum() / len(delivered)\n",
    "\n"
   ]
  },
  {
   "cell_type": "code",
   "execution_count": 86,
   "metadata": {},
   "outputs": [
    {
     "data": {
      "text/html": [
       "<div>\n",
       "<style scoped>\n",
       "    .dataframe tbody tr th:only-of-type {\n",
       "        vertical-align: middle;\n",
       "    }\n",
       "\n",
       "    .dataframe tbody tr th {\n",
       "        vertical-align: top;\n",
       "    }\n",
       "\n",
       "    .dataframe thead th {\n",
       "        text-align: right;\n",
       "    }\n",
       "</style>\n",
       "<table border=\"1\" class=\"dataframe\">\n",
       "  <thead>\n",
       "    <tr style=\"text-align: right;\">\n",
       "      <th></th>\n",
       "      <th>Réel</th>\n",
       "    </tr>\n",
       "  </thead>\n",
       "  <tbody>\n",
       "    <tr>\n",
       "      <th>Fourni</th>\n",
       "      <td>911.00</td>\n",
       "    </tr>\n",
       "    <tr>\n",
       "      <th>Invendus</th>\n",
       "      <td>32.61</td>\n",
       "    </tr>\n",
       "    <tr>\n",
       "      <th>Nbr Rupt</th>\n",
       "      <td>18.81</td>\n",
       "    </tr>\n",
       "    <tr>\n",
       "      <th>Ventes</th>\n",
       "      <td>614.00</td>\n",
       "    </tr>\n",
       "  </tbody>\n",
       "</table>\n",
       "</div>"
      ],
      "text/plain": [
       "            Réel\n",
       "Fourni    911.00\n",
       "Invendus   32.61\n",
       "Nbr Rupt   18.81\n",
       "Ventes    614.00"
      ]
     },
     "execution_count": 86,
     "metadata": {},
     "output_type": "execute_result"
    }
   ],
   "source": [
    " # Baseline\n",
    "results={}\n",
    "fourni = test_dataset.Fourni.sum()\n",
    "ventes = test_dataset.Ventes.sum()\n",
    "n_dates = test_dataset.Date.nunique() \n",
    "results[\"Réel\"]={\n",
    "    \"Fourni\": round(fourni / n_dates),\n",
    "    \"Ventes\": round(ventes / n_dates),\n",
    "    \"Invendus\" : round(unsold_rate(test_dataset.Fourni, test_dataset.Ventes) * 100, 2),\n",
    "    \"Nbr Rupt\": round(sold_out_rate(test_dataset.Fourni, test_dataset.Ventes) * 100, 2)\n",
    "    }\n",
    "pd.DataFrame(results)"
   ]
  }
 ],
 "metadata": {
  "kernelspec": {
   "display_name": "rossel_environment",
   "language": "python",
   "name": "python3"
  },
  "language_info": {
   "codemirror_mode": {
    "name": "ipython",
    "version": 3
   },
   "file_extension": ".py",
   "mimetype": "text/x-python",
   "name": "python",
   "nbconvert_exporter": "python",
   "pygments_lexer": "ipython3",
   "version": "3.6.13"
  },
  "orig_nbformat": 4,
  "vscode": {
   "interpreter": {
    "hash": "5b1f34331abc3dad9fb5d59724e593a1560a4b7170e46393e7c3f3fda468b6f7"
   }
  }
 },
 "nbformat": 4,
 "nbformat_minor": 2
}
