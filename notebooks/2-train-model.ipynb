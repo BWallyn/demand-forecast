{
 "cells": [
  {
   "cell_type": "markdown",
   "metadata": {},
   "source": [
    "# Train model\n",
    "\n",
    "This notebook is to train the model.\n",
    "1. First, some feature engineering is conducted to prepare the dataset and add the more details possible.\n",
    "2. Then, a first model is trained using cross validation and expanding window validation to validate the model. The model and info are loaded to MLflow to store the different models and track the performances.\n",
    "3. Finally, the best model is run on the entire train set."
   ]
  },
  {
   "cell_type": "markdown",
   "metadata": {},
   "source": [
    "# 1. Imports"
   ]
  },
  {
   "cell_type": "markdown",
   "metadata": {},
   "source": [
    "## 1.1 Packages"
   ]
  },
  {
   "cell_type": "code",
   "execution_count": 11,
   "metadata": {},
   "outputs": [],
   "source": [
    "import os\n",
    "import pandas as pd\n",
    "import sys"
   ]
  },
  {
   "cell_type": "code",
   "execution_count": 12,
   "metadata": {},
   "outputs": [],
   "source": [
    "# Load custom functions\n",
    "sys.path.append(\"../src/\")\n",
    "from prepare_data import get_holidays\n",
    "from feature_engineering import extract_date_features, add_lockdown_periods, add_holidays_period,\\\n",
    "    get_split_train_val_cv\n",
    "from train_model import train_model_cv_mlflow, train_model, create_pool"
   ]
  },
  {
   "cell_type": "markdown",
   "metadata": {},
   "source": [
    "## 1.2 Options"
   ]
  },
  {
   "cell_type": "code",
   "execution_count": 13,
   "metadata": {},
   "outputs": [
    {
     "name": "stdout",
     "output_type": "stream",
     "text": [
      "The autoreload extension is already loaded. To reload it, use:\n",
      "  %reload_ext autoreload\n"
     ]
    }
   ],
   "source": [
    "%load_ext autoreload\n",
    "%autoreload 2"
   ]
  },
  {
   "cell_type": "code",
   "execution_count": 14,
   "metadata": {},
   "outputs": [],
   "source": [
    "# Define some parameters\n",
    "\n",
    "path_data = \"../data/processed\"\n",
    "\n",
    "feat_date = \"Date\""
   ]
  },
  {
   "cell_type": "markdown",
   "metadata": {},
   "source": [
    "## 1.3 Datasets"
   ]
  },
  {
   "cell_type": "code",
   "execution_count": 15,
   "metadata": {},
   "outputs": [],
   "source": [
    "# Load the train set and its target\n",
    "\n",
    "df_train = pd.read_pickle(os.path.join(path_data, \"train.pkl\"))\n",
    "y_train = pd.read_csv(os.path.join(path_data, \"target_train.csv\"), index_col=0)"
   ]
  },
  {
   "cell_type": "markdown",
   "metadata": {},
   "source": [
    "# 2. Prepare data"
   ]
  },
  {
   "cell_type": "markdown",
   "metadata": {},
   "source": [
    "## 2.1 Feature engineering\n",
    "\n",
    "To prepare data, the following feature engineering is done:\n",
    "1. Extract info from date: year, month, day, day of the week and if its weekend or not\n",
    "2. Add an indicator of the lockdown period: if there was a lockdown, and which one (first, second or thrid one)\n",
    "3. Add holidays period for Zone A in France\n",
    "4. Add holidays period for Zone B in France\n",
    "5. Add holidays period for Zone C in France\n",
    "\n",
    "(Having some geographical information could let us add just the right holidays period depending on the zone)\n",
    "\n",
    "6. Drop columns Date and Fourni which will not be used in the model"
   ]
  },
  {
   "cell_type": "code",
   "execution_count": 16,
   "metadata": {},
   "outputs": [],
   "source": [
    "df_train = df_train.pipe(extract_date_features, feat_date=feat_date)\\\n",
    "    .pipe(add_lockdown_periods, feat_date=feat_date)\\\n",
    "    .pipe(add_holidays_period, feat_date=feat_date, zone=\"Zone A\")\\\n",
    "    .pipe(add_holidays_period, feat_date=feat_date, zone=\"Zone B\")\\\n",
    "    .pipe(add_holidays_period, feat_date=feat_date, zone=\"Zone C\")\\\n",
    "    .drop(columns=[\"Date\", \"Fourni\"])"
   ]
  },
  {
   "cell_type": "code",
   "execution_count": 17,
   "metadata": {},
   "outputs": [
    {
     "data": {
      "text/html": [
       "<div>\n",
       "<style scoped>\n",
       "    .dataframe tbody tr th:only-of-type {\n",
       "        vertical-align: middle;\n",
       "    }\n",
       "\n",
       "    .dataframe tbody tr th {\n",
       "        vertical-align: top;\n",
       "    }\n",
       "\n",
       "    .dataframe thead th {\n",
       "        text-align: right;\n",
       "    }\n",
       "</style>\n",
       "<table border=\"1\" class=\"dataframe\">\n",
       "  <thead>\n",
       "    <tr style=\"text-align: right;\">\n",
       "      <th></th>\n",
       "      <th>id</th>\n",
       "      <th>Date_year</th>\n",
       "      <th>Date_month</th>\n",
       "      <th>Date_day</th>\n",
       "      <th>Date_weekday</th>\n",
       "      <th>Date_weekend</th>\n",
       "      <th>lockdown</th>\n",
       "      <th>Description_ZoneA</th>\n",
       "      <th>Description_ZoneB</th>\n",
       "      <th>Description_ZoneC</th>\n",
       "    </tr>\n",
       "  </thead>\n",
       "  <tbody>\n",
       "    <tr>\n",
       "      <th>92</th>\n",
       "      <td>-6795017860123346820</td>\n",
       "      <td>2020</td>\n",
       "      <td>1</td>\n",
       "      <td>2</td>\n",
       "      <td>3</td>\n",
       "      <td>0</td>\n",
       "      <td>0</td>\n",
       "      <td>Vacances de Noël</td>\n",
       "      <td>Vacances de Noël</td>\n",
       "      <td>Vacances de Noël</td>\n",
       "    </tr>\n",
       "    <tr>\n",
       "      <th>72</th>\n",
       "      <td>4324517785573311838</td>\n",
       "      <td>2020</td>\n",
       "      <td>1</td>\n",
       "      <td>2</td>\n",
       "      <td>3</td>\n",
       "      <td>0</td>\n",
       "      <td>0</td>\n",
       "      <td>Vacances de Noël</td>\n",
       "      <td>Vacances de Noël</td>\n",
       "      <td>Vacances de Noël</td>\n",
       "    </tr>\n",
       "    <tr>\n",
       "      <th>71</th>\n",
       "      <td>5056562842583071429</td>\n",
       "      <td>2020</td>\n",
       "      <td>1</td>\n",
       "      <td>2</td>\n",
       "      <td>3</td>\n",
       "      <td>0</td>\n",
       "      <td>0</td>\n",
       "      <td>Vacances de Noël</td>\n",
       "      <td>Vacances de Noël</td>\n",
       "      <td>Vacances de Noël</td>\n",
       "    </tr>\n",
       "    <tr>\n",
       "      <th>69</th>\n",
       "      <td>-5277685202972058648</td>\n",
       "      <td>2020</td>\n",
       "      <td>1</td>\n",
       "      <td>2</td>\n",
       "      <td>3</td>\n",
       "      <td>0</td>\n",
       "      <td>0</td>\n",
       "      <td>Vacances de Noël</td>\n",
       "      <td>Vacances de Noël</td>\n",
       "      <td>Vacances de Noël</td>\n",
       "    </tr>\n",
       "    <tr>\n",
       "      <th>68</th>\n",
       "      <td>4079792561055568638</td>\n",
       "      <td>2020</td>\n",
       "      <td>1</td>\n",
       "      <td>2</td>\n",
       "      <td>3</td>\n",
       "      <td>0</td>\n",
       "      <td>0</td>\n",
       "      <td>Vacances de Noël</td>\n",
       "      <td>Vacances de Noël</td>\n",
       "      <td>Vacances de Noël</td>\n",
       "    </tr>\n",
       "    <tr>\n",
       "      <th>...</th>\n",
       "      <td>...</td>\n",
       "      <td>...</td>\n",
       "      <td>...</td>\n",
       "      <td>...</td>\n",
       "      <td>...</td>\n",
       "      <td>...</td>\n",
       "      <td>...</td>\n",
       "      <td>...</td>\n",
       "      <td>...</td>\n",
       "      <td>...</td>\n",
       "    </tr>\n",
       "    <tr>\n",
       "      <th>64186</th>\n",
       "      <td>6858783929733742556</td>\n",
       "      <td>2022</td>\n",
       "      <td>6</td>\n",
       "      <td>20</td>\n",
       "      <td>0</td>\n",
       "      <td>0</td>\n",
       "      <td>0</td>\n",
       "      <td>None</td>\n",
       "      <td>None</td>\n",
       "      <td>None</td>\n",
       "    </tr>\n",
       "    <tr>\n",
       "      <th>64187</th>\n",
       "      <td>2132453013379446212</td>\n",
       "      <td>2022</td>\n",
       "      <td>6</td>\n",
       "      <td>20</td>\n",
       "      <td>0</td>\n",
       "      <td>0</td>\n",
       "      <td>0</td>\n",
       "      <td>None</td>\n",
       "      <td>None</td>\n",
       "      <td>None</td>\n",
       "    </tr>\n",
       "    <tr>\n",
       "      <th>64189</th>\n",
       "      <td>8884923748487096025</td>\n",
       "      <td>2022</td>\n",
       "      <td>6</td>\n",
       "      <td>20</td>\n",
       "      <td>0</td>\n",
       "      <td>0</td>\n",
       "      <td>0</td>\n",
       "      <td>None</td>\n",
       "      <td>None</td>\n",
       "      <td>None</td>\n",
       "    </tr>\n",
       "    <tr>\n",
       "      <th>64221</th>\n",
       "      <td>2942031581314612067</td>\n",
       "      <td>2022</td>\n",
       "      <td>6</td>\n",
       "      <td>20</td>\n",
       "      <td>0</td>\n",
       "      <td>0</td>\n",
       "      <td>0</td>\n",
       "      <td>None</td>\n",
       "      <td>None</td>\n",
       "      <td>None</td>\n",
       "    </tr>\n",
       "    <tr>\n",
       "      <th>64191</th>\n",
       "      <td>-6620843443548962411</td>\n",
       "      <td>2022</td>\n",
       "      <td>6</td>\n",
       "      <td>20</td>\n",
       "      <td>0</td>\n",
       "      <td>0</td>\n",
       "      <td>0</td>\n",
       "      <td>None</td>\n",
       "      <td>None</td>\n",
       "      <td>None</td>\n",
       "    </tr>\n",
       "  </tbody>\n",
       "</table>\n",
       "<p>64222 rows × 10 columns</p>\n",
       "</div>"
      ],
      "text/plain": [
       "                        id  Date_year  Date_month  Date_day  Date_weekday  \\\n",
       "92    -6795017860123346820       2020           1         2             3   \n",
       "72     4324517785573311838       2020           1         2             3   \n",
       "71     5056562842583071429       2020           1         2             3   \n",
       "69    -5277685202972058648       2020           1         2             3   \n",
       "68     4079792561055568638       2020           1         2             3   \n",
       "...                    ...        ...         ...       ...           ...   \n",
       "64186  6858783929733742556       2022           6        20             0   \n",
       "64187  2132453013379446212       2022           6        20             0   \n",
       "64189  8884923748487096025       2022           6        20             0   \n",
       "64221  2942031581314612067       2022           6        20             0   \n",
       "64191 -6620843443548962411       2022           6        20             0   \n",
       "\n",
       "       Date_weekend  lockdown Description_ZoneA Description_ZoneB  \\\n",
       "92                0         0  Vacances de Noël  Vacances de Noël   \n",
       "72                0         0  Vacances de Noël  Vacances de Noël   \n",
       "71                0         0  Vacances de Noël  Vacances de Noël   \n",
       "69                0         0  Vacances de Noël  Vacances de Noël   \n",
       "68                0         0  Vacances de Noël  Vacances de Noël   \n",
       "...             ...       ...               ...               ...   \n",
       "64186             0         0              None              None   \n",
       "64187             0         0              None              None   \n",
       "64189             0         0              None              None   \n",
       "64221             0         0              None              None   \n",
       "64191             0         0              None              None   \n",
       "\n",
       "      Description_ZoneC  \n",
       "92     Vacances de Noël  \n",
       "72     Vacances de Noël  \n",
       "71     Vacances de Noël  \n",
       "69     Vacances de Noël  \n",
       "68     Vacances de Noël  \n",
       "...                 ...  \n",
       "64186              None  \n",
       "64187              None  \n",
       "64189              None  \n",
       "64221              None  \n",
       "64191              None  \n",
       "\n",
       "[64222 rows x 10 columns]"
      ]
     },
     "execution_count": 17,
     "metadata": {},
     "output_type": "execute_result"
    }
   ],
   "source": [
    "df_train"
   ]
  },
  {
   "cell_type": "code",
   "execution_count": 18,
   "metadata": {},
   "outputs": [],
   "source": [
    "# Define the categorical columns for the model\n",
    "feat_cat = [\"id\", \"Date_weekend\", \"lockdown\", \"Description_ZoneA\", \"Description_ZoneB\", \"Description_ZoneC\"]"
   ]
  },
  {
   "cell_type": "markdown",
   "metadata": {},
   "source": [
    "## 2.2 Split into folds\n",
    "\n",
    "The train set is split into folds using expanding window validation. It means, we select one portion of the set as the train set, and the portion after as the validation. Then the validation set is added to the train set and a period after is the new validation set, and so on."
   ]
  },
  {
   "cell_type": "code",
   "execution_count": 19,
   "metadata": {},
   "outputs": [],
   "source": [
    "# Split the train set into different folds\n",
    "list_train_valid = get_split_train_val_cv(df_train, y_train, n_splits=5)"
   ]
  },
  {
   "cell_type": "markdown",
   "metadata": {},
   "source": [
    "# 3. Train model"
   ]
  },
  {
   "cell_type": "markdown",
   "metadata": {},
   "source": [
    "## 3.1 Cross validation and hyperparameters search"
   ]
  },
  {
   "cell_type": "code",
   "execution_count": 20,
   "metadata": {},
   "outputs": [
    {
     "name": "stderr",
     "output_type": "stream",
     "text": [
      "iteritems is deprecated and will be removed in a future version. Use .items instead.\n",
      "iteritems is deprecated and will be removed in a future version. Use .items instead.\n",
      "iteritems is deprecated and will be removed in a future version. Use .items instead.\n",
      "iteritems is deprecated and will be removed in a future version. Use .items instead.\n",
      "iteritems is deprecated and will be removed in a future version. Use .items instead.\n",
      "No data for colormapping provided via 'c'. Parameters 'vmin', 'vmax' will be ignored\n"
     ]
    },
    {
     "data": {
      "image/png": "[encoded data removed]",
      "text/plain": [
       "<Figure size 800x550 with 2 Axes>"
      ]
     },
     "metadata": {},
     "output_type": "display_data"
    },
    {
     "name": "stderr",
     "output_type": "stream",
     "text": [
      "Setuptools is replacing distutils.\n"
     ]
    }
   ],
   "source": [
    "params = {\n",
    "    \"iterations\": 1000,\n",
    "    \"depth\": 7,\n",
    "    \"loss_function\": \"RMSE\",\n",
    "    \"learning_rate\": 0.07,\n",
    "    \"early_stopping_rounds\": 100,\n",
    "}\n",
    "\n",
    "model, pred_train, pred_valid = train_model_cv_mlflow(\n",
    "    list_train_valid=list_train_valid,\n",
    "    feat_cat=feat_cat, plot_training=False, verbose=0,\n",
    "    **params\n",
    ")"
   ]
  },
  {
   "cell_type": "markdown",
   "metadata": {},
   "source": [
    "## 3.2 Final model"
   ]
  },
  {
   "cell_type": "code",
   "execution_count": 21,
   "metadata": {},
   "outputs": [
    {
     "name": "stderr",
     "output_type": "stream",
     "text": [
      "iteritems is deprecated and will be removed in a future version. Use .items instead.\n"
     ]
    },
    {
     "data": {
      "application/vnd.jupyter.widget-view+json": {
       "model_id": "70301b3c358440648333e20f8cb20d9a",
       "version_major": 2,
       "version_minor": 0
      },
      "text/plain": [
       "MetricVisualizer(layout=Layout(align_self='stretch', height='500px'))"
      ]
     },
     "metadata": {},
     "output_type": "display_data"
    },
    {
     "name": "stderr",
     "output_type": "stream",
     "text": [
      "You should provide test set for use best model. use_best_model parameter has been switched to false value.\n"
     ]
    },
    {
     "name": "stdout",
     "output_type": "stream",
     "text": [
      "0:\tlearn: 12.3888352\ttotal: 25.1ms\tremaining: 23.5s\n",
      "100:\tlearn: 12.0638713\ttotal: 1.76s\tremaining: 14.6s\n",
      "200:\tlearn: 12.0114101\ttotal: 3.33s\tremaining: 12.2s\n",
      "300:\tlearn: 11.9687960\ttotal: 4.98s\tremaining: 10.5s\n",
      "400:\tlearn: 11.9330976\ttotal: 6.46s\tremaining: 8.63s\n",
      "500:\tlearn: 11.8856986\ttotal: 8.06s\tremaining: 7.01s\n",
      "600:\tlearn: 11.8481215\ttotal: 9.52s\tremaining: 5.32s\n",
      "700:\tlearn: 11.8143464\ttotal: 11.4s\tremaining: 3.84s\n",
      "800:\tlearn: 11.7762862\ttotal: 12.9s\tremaining: 2.19s\n",
      "900:\tlearn: 11.7451135\ttotal: 14.4s\tremaining: 575ms\n",
      "936:\tlearn: 11.7342230\ttotal: 14.9s\tremaining: 0us\n"
     ]
    }
   ],
   "source": [
    "params[\"iterations\"] = model.get_best_iteration()\n",
    "\n",
    "pool_train = create_pool(df_train, y_train, feat_cat=feat_cat)\n",
    "model = train_model(pool_train=pool_train, pool_eval=None, plot_training=True, verbose=100, **params)"
   ]
  },
  {
   "cell_type": "code",
   "execution_count": null,
   "metadata": {},
   "outputs": [],
   "source": []
  }
 ],
 "metadata": {
  "kernelspec": {
   "display_name": "py310",
   "language": "python",
   "name": "python3"
  },
  "language_info": {
   "codemirror_mode": {
    "name": "ipython",
    "version": 3
   },
   "file_extension": ".py",
   "mimetype": "text/x-python",
   "name": "python",
   "nbconvert_exporter": "python",
   "pygments_lexer": "ipython3",
   "version": "3.10.9"
  },
  "orig_nbformat": 4
 },
 "nbformat": 4,
 "nbformat_minor": 2
}
