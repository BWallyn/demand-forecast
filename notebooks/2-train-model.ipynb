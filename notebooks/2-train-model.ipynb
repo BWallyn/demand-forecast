{
 "cells": [
  {
   "cell_type": "markdown",
   "metadata": {},
   "source": [
    "# Train model\n",
    "\n",
    "This notebook is to train the model.\n",
    "1. First, some feature engineering is conducted to prepare the dataset and add the more details possible.\n",
    "2. Then, a first model is trained using cross validation and expanding window validation to validate the model. The model and info are loaded to MLflow to store the different models and track the performances.\n",
    "3. Finally, the best model is run on the entire train set."
   ]
  },
  {
   "cell_type": "markdown",
   "metadata": {},
   "source": [
    "# 1. Imports"
   ]
  },
  {
   "cell_type": "markdown",
   "metadata": {},
   "source": [
    "## 1.1 Packages"
   ]
  },
  {
   "cell_type": "code",
   "execution_count": 7,
   "metadata": {},
   "outputs": [],
   "source": [
    "import os\n",
    "import pandas as pd\n",
    "import sys"
   ]
  },
  {
   "cell_type": "code",
   "execution_count": 8,
   "metadata": {},
   "outputs": [],
   "source": [
    "# Load custom functions\n",
    "sys.path.append(\"../src/\")\n",
    "from feature_engineering import extract_date_features, add_lockdown_periods, add_holidays_period, get_split_cv_by_week\n",
    "from train_model import train_model_cv_mlflow, train_model, create_pool, save_model"
   ]
  },
  {
   "cell_type": "markdown",
   "metadata": {},
   "source": [
    "## 1.2 Options"
   ]
  },
  {
   "cell_type": "code",
   "execution_count": 9,
   "metadata": {},
   "outputs": [
    {
     "name": "stdout",
     "output_type": "stream",
     "text": [
      "The autoreload extension is already loaded. To reload it, use:\n",
      "  %reload_ext autoreload\n"
     ]
    }
   ],
   "source": [
    "%load_ext autoreload\n",
    "%autoreload 2"
   ]
  },
  {
   "cell_type": "code",
   "execution_count": 10,
   "metadata": {},
   "outputs": [],
   "source": [
    "# Define some parameters\n",
    "\n",
    "path_data = \"../data/processed\"\n",
    "\n",
    "feat_date = \"Date\""
   ]
  },
  {
   "cell_type": "markdown",
   "metadata": {},
   "source": [
    "## 1.3 Datasets"
   ]
  },
  {
   "cell_type": "code",
   "execution_count": 11,
   "metadata": {},
   "outputs": [],
   "source": [
    "# Load the train set and its target\n",
    "\n",
    "df_train = pd.read_pickle(os.path.join(path_data, \"train.pkl\"))\n",
    "y_train = pd.read_csv(os.path.join(path_data, \"target_train.csv\"), index_col=0)"
   ]
  },
  {
   "cell_type": "markdown",
   "metadata": {},
   "source": [
    "# 2. Prepare data"
   ]
  },
  {
   "cell_type": "markdown",
   "metadata": {},
   "source": [
    "## 2.1 Feature engineering\n",
    "\n",
    "To prepare data, the following feature engineering is done:\n",
    "1. Extract info from date: year, month, day, day of the week and if its weekend or not\n",
    "2. Add an indicator of the lockdown period: if there was a lockdown, and which one (first, second or thrid one)\n",
    "3. Add holidays period for Zone A in France\n",
    "4. Add holidays period for Zone B in France\n",
    "5. Add holidays period for Zone C in France\n",
    "\n",
    "(Having some geographical information could let us add just the right holidays period depending on the zone)\n",
    "\n",
    "6. Drop columns Date and Fourni which will not be used in the model"
   ]
  },
  {
   "cell_type": "code",
   "execution_count": 12,
   "metadata": {},
   "outputs": [],
   "source": [
    "df_date_train = df_train[feat_date]\n",
    "\n",
    "df_train = df_train.pipe(extract_date_features, feat_date=feat_date)\\\n",
    "    .pipe(add_lockdown_periods, feat_date=feat_date)\\\n",
    "    .pipe(add_holidays_period, feat_date=feat_date, zone=\"Zone A\")\\\n",
    "    .pipe(add_holidays_period, feat_date=feat_date, zone=\"Zone B\")\\\n",
    "    .pipe(add_holidays_period, feat_date=feat_date, zone=\"Zone C\")\\\n",
    "    .drop(columns=[feat_date, \"Fourni\"])"
   ]
  },
  {
   "cell_type": "code",
   "execution_count": 13,
   "metadata": {},
   "outputs": [
    {
     "data": {
      "text/html": [
       "<div>\n",
       "<style scoped>\n",
       "    .dataframe tbody tr th:only-of-type {\n",
       "        vertical-align: middle;\n",
       "    }\n",
       "\n",
       "    .dataframe tbody tr th {\n",
       "        vertical-align: top;\n",
       "    }\n",
       "\n",
       "    .dataframe thead th {\n",
       "        text-align: right;\n",
       "    }\n",
       "</style>\n",
       "<table border=\"1\" class=\"dataframe\">\n",
       "  <thead>\n",
       "    <tr style=\"text-align: right;\">\n",
       "      <th></th>\n",
       "      <th>id</th>\n",
       "      <th>sma_1_ventes_lag14</th>\n",
       "      <th>sma_2_ventes_lag14</th>\n",
       "      <th>sma_3_ventes_lag14</th>\n",
       "      <th>sma_4_ventes_lag14</th>\n",
       "      <th>sma_5_ventes_lag14</th>\n",
       "      <th>sma_6_ventes_lag14</th>\n",
       "      <th>sma_7_ventes_lag14</th>\n",
       "      <th>sma_10_ventes_lag14</th>\n",
       "      <th>sma_13_ventes_lag14</th>\n",
       "      <th>...</th>\n",
       "      <th>sma_34_ventes_lag14</th>\n",
       "      <th>Date_year</th>\n",
       "      <th>Date_month</th>\n",
       "      <th>Date_day</th>\n",
       "      <th>Date_weekday</th>\n",
       "      <th>Date_weekend</th>\n",
       "      <th>lockdown</th>\n",
       "      <th>Description_ZoneA</th>\n",
       "      <th>Description_ZoneB</th>\n",
       "      <th>Description_ZoneC</th>\n",
       "    </tr>\n",
       "  </thead>\n",
       "  <tbody>\n",
       "    <tr>\n",
       "      <th>63</th>\n",
       "      <td>6199345349144345845</td>\n",
       "      <td>NaN</td>\n",
       "      <td>NaN</td>\n",
       "      <td>NaN</td>\n",
       "      <td>NaN</td>\n",
       "      <td>NaN</td>\n",
       "      <td>NaN</td>\n",
       "      <td>NaN</td>\n",
       "      <td>NaN</td>\n",
       "      <td>NaN</td>\n",
       "      <td>...</td>\n",
       "      <td>NaN</td>\n",
       "      <td>2020</td>\n",
       "      <td>1</td>\n",
       "      <td>2</td>\n",
       "      <td>3</td>\n",
       "      <td>0</td>\n",
       "      <td>0</td>\n",
       "      <td>Vacances de Noël</td>\n",
       "      <td>Vacances de Noël</td>\n",
       "      <td>Vacances de Noël</td>\n",
       "    </tr>\n",
       "    <tr>\n",
       "      <th>72</th>\n",
       "      <td>-876129535061941331</td>\n",
       "      <td>NaN</td>\n",
       "      <td>NaN</td>\n",
       "      <td>NaN</td>\n",
       "      <td>NaN</td>\n",
       "      <td>NaN</td>\n",
       "      <td>NaN</td>\n",
       "      <td>NaN</td>\n",
       "      <td>NaN</td>\n",
       "      <td>NaN</td>\n",
       "      <td>...</td>\n",
       "      <td>NaN</td>\n",
       "      <td>2020</td>\n",
       "      <td>1</td>\n",
       "      <td>2</td>\n",
       "      <td>3</td>\n",
       "      <td>0</td>\n",
       "      <td>0</td>\n",
       "      <td>Vacances de Noël</td>\n",
       "      <td>Vacances de Noël</td>\n",
       "      <td>Vacances de Noël</td>\n",
       "    </tr>\n",
       "    <tr>\n",
       "      <th>1</th>\n",
       "      <td>-8929187383922749181</td>\n",
       "      <td>NaN</td>\n",
       "      <td>NaN</td>\n",
       "      <td>NaN</td>\n",
       "      <td>NaN</td>\n",
       "      <td>NaN</td>\n",
       "      <td>NaN</td>\n",
       "      <td>NaN</td>\n",
       "      <td>NaN</td>\n",
       "      <td>NaN</td>\n",
       "      <td>...</td>\n",
       "      <td>NaN</td>\n",
       "      <td>2020</td>\n",
       "      <td>1</td>\n",
       "      <td>2</td>\n",
       "      <td>3</td>\n",
       "      <td>0</td>\n",
       "      <td>0</td>\n",
       "      <td>Vacances de Noël</td>\n",
       "      <td>Vacances de Noël</td>\n",
       "      <td>Vacances de Noël</td>\n",
       "    </tr>\n",
       "    <tr>\n",
       "      <th>24</th>\n",
       "      <td>8464427600310081793</td>\n",
       "      <td>NaN</td>\n",
       "      <td>NaN</td>\n",
       "      <td>NaN</td>\n",
       "      <td>NaN</td>\n",
       "      <td>NaN</td>\n",
       "      <td>NaN</td>\n",
       "      <td>NaN</td>\n",
       "      <td>NaN</td>\n",
       "      <td>NaN</td>\n",
       "      <td>...</td>\n",
       "      <td>NaN</td>\n",
       "      <td>2020</td>\n",
       "      <td>1</td>\n",
       "      <td>2</td>\n",
       "      <td>3</td>\n",
       "      <td>0</td>\n",
       "      <td>0</td>\n",
       "      <td>Vacances de Noël</td>\n",
       "      <td>Vacances de Noël</td>\n",
       "      <td>Vacances de Noël</td>\n",
       "    </tr>\n",
       "    <tr>\n",
       "      <th>2</th>\n",
       "      <td>5557283775796994165</td>\n",
       "      <td>NaN</td>\n",
       "      <td>NaN</td>\n",
       "      <td>NaN</td>\n",
       "      <td>NaN</td>\n",
       "      <td>NaN</td>\n",
       "      <td>NaN</td>\n",
       "      <td>NaN</td>\n",
       "      <td>NaN</td>\n",
       "      <td>NaN</td>\n",
       "      <td>...</td>\n",
       "      <td>NaN</td>\n",
       "      <td>2020</td>\n",
       "      <td>1</td>\n",
       "      <td>2</td>\n",
       "      <td>3</td>\n",
       "      <td>0</td>\n",
       "      <td>0</td>\n",
       "      <td>Vacances de Noël</td>\n",
       "      <td>Vacances de Noël</td>\n",
       "      <td>Vacances de Noël</td>\n",
       "    </tr>\n",
       "    <tr>\n",
       "      <th>...</th>\n",
       "      <td>...</td>\n",
       "      <td>...</td>\n",
       "      <td>...</td>\n",
       "      <td>...</td>\n",
       "      <td>...</td>\n",
       "      <td>...</td>\n",
       "      <td>...</td>\n",
       "      <td>...</td>\n",
       "      <td>...</td>\n",
       "      <td>...</td>\n",
       "      <td>...</td>\n",
       "      <td>...</td>\n",
       "      <td>...</td>\n",
       "      <td>...</td>\n",
       "      <td>...</td>\n",
       "      <td>...</td>\n",
       "      <td>...</td>\n",
       "      <td>...</td>\n",
       "      <td>...</td>\n",
       "      <td>...</td>\n",
       "      <td>...</td>\n",
       "    </tr>\n",
       "    <tr>\n",
       "      <th>82388</th>\n",
       "      <td>-7098573545404969117</td>\n",
       "      <td>18.0</td>\n",
       "      <td>16.0</td>\n",
       "      <td>13.333333</td>\n",
       "      <td>12.25</td>\n",
       "      <td>11.6</td>\n",
       "      <td>11.333333</td>\n",
       "      <td>11.714286</td>\n",
       "      <td>12.2</td>\n",
       "      <td>11.076923</td>\n",
       "      <td>...</td>\n",
       "      <td>11.764706</td>\n",
       "      <td>2023</td>\n",
       "      <td>4</td>\n",
       "      <td>2</td>\n",
       "      <td>6</td>\n",
       "      <td>1</td>\n",
       "      <td>0</td>\n",
       "      <td>None</td>\n",
       "      <td>None</td>\n",
       "      <td>None</td>\n",
       "    </tr>\n",
       "    <tr>\n",
       "      <th>82389</th>\n",
       "      <td>2942031581314612067</td>\n",
       "      <td>8.0</td>\n",
       "      <td>6.5</td>\n",
       "      <td>5.666667</td>\n",
       "      <td>4.75</td>\n",
       "      <td>4.6</td>\n",
       "      <td>4.666667</td>\n",
       "      <td>4.571429</td>\n",
       "      <td>4.8</td>\n",
       "      <td>4.615385</td>\n",
       "      <td>...</td>\n",
       "      <td>3.941176</td>\n",
       "      <td>2023</td>\n",
       "      <td>4</td>\n",
       "      <td>2</td>\n",
       "      <td>6</td>\n",
       "      <td>1</td>\n",
       "      <td>0</td>\n",
       "      <td>None</td>\n",
       "      <td>None</td>\n",
       "      <td>None</td>\n",
       "    </tr>\n",
       "    <tr>\n",
       "      <th>82365</th>\n",
       "      <td>6421054819254012950</td>\n",
       "      <td>45.0</td>\n",
       "      <td>31.0</td>\n",
       "      <td>26.333333</td>\n",
       "      <td>20.50</td>\n",
       "      <td>19.8</td>\n",
       "      <td>20.166667</td>\n",
       "      <td>21.285714</td>\n",
       "      <td>23.8</td>\n",
       "      <td>21.461538</td>\n",
       "      <td>...</td>\n",
       "      <td>21.941176</td>\n",
       "      <td>2023</td>\n",
       "      <td>4</td>\n",
       "      <td>2</td>\n",
       "      <td>6</td>\n",
       "      <td>1</td>\n",
       "      <td>0</td>\n",
       "      <td>None</td>\n",
       "      <td>None</td>\n",
       "      <td>None</td>\n",
       "    </tr>\n",
       "    <tr>\n",
       "      <th>82384</th>\n",
       "      <td>-3559041973219712811</td>\n",
       "      <td>3.0</td>\n",
       "      <td>2.5</td>\n",
       "      <td>1.666667</td>\n",
       "      <td>1.25</td>\n",
       "      <td>1.0</td>\n",
       "      <td>0.833333</td>\n",
       "      <td>0.714286</td>\n",
       "      <td>2.5</td>\n",
       "      <td>2.153846</td>\n",
       "      <td>...</td>\n",
       "      <td>1.235294</td>\n",
       "      <td>2023</td>\n",
       "      <td>4</td>\n",
       "      <td>2</td>\n",
       "      <td>6</td>\n",
       "      <td>1</td>\n",
       "      <td>0</td>\n",
       "      <td>None</td>\n",
       "      <td>None</td>\n",
       "      <td>None</td>\n",
       "    </tr>\n",
       "    <tr>\n",
       "      <th>82356</th>\n",
       "      <td>6858783929733742556</td>\n",
       "      <td>24.0</td>\n",
       "      <td>30.5</td>\n",
       "      <td>24.666667</td>\n",
       "      <td>21.25</td>\n",
       "      <td>20.8</td>\n",
       "      <td>19.333333</td>\n",
       "      <td>19.142857</td>\n",
       "      <td>22.2</td>\n",
       "      <td>20.769231</td>\n",
       "      <td>...</td>\n",
       "      <td>23.411765</td>\n",
       "      <td>2023</td>\n",
       "      <td>4</td>\n",
       "      <td>2</td>\n",
       "      <td>6</td>\n",
       "      <td>1</td>\n",
       "      <td>0</td>\n",
       "      <td>None</td>\n",
       "      <td>None</td>\n",
       "      <td>None</td>\n",
       "    </tr>\n",
       "  </tbody>\n",
       "</table>\n",
       "<p>82391 rows × 21 columns</p>\n",
       "</div>"
      ],
      "text/plain": [
       "                         id  sma_1_ventes_lag14  sma_2_ventes_lag14  \\\n",
       "63      6199345349144345845                 NaN                 NaN   \n",
       "72      -876129535061941331                 NaN                 NaN   \n",
       "1      -8929187383922749181                 NaN                 NaN   \n",
       "24      8464427600310081793                 NaN                 NaN   \n",
       "2       5557283775796994165                 NaN                 NaN   \n",
       "...                     ...                 ...                 ...   \n",
       "82388  -7098573545404969117                18.0                16.0   \n",
       "82389   2942031581314612067                 8.0                 6.5   \n",
       "82365   6421054819254012950                45.0                31.0   \n",
       "82384  -3559041973219712811                 3.0                 2.5   \n",
       "82356   6858783929733742556                24.0                30.5   \n",
       "\n",
       "       sma_3_ventes_lag14  sma_4_ventes_lag14  sma_5_ventes_lag14  \\\n",
       "63                    NaN                 NaN                 NaN   \n",
       "72                    NaN                 NaN                 NaN   \n",
       "1                     NaN                 NaN                 NaN   \n",
       "24                    NaN                 NaN                 NaN   \n",
       "2                     NaN                 NaN                 NaN   \n",
       "...                   ...                 ...                 ...   \n",
       "82388           13.333333               12.25                11.6   \n",
       "82389            5.666667                4.75                 4.6   \n",
       "82365           26.333333               20.50                19.8   \n",
       "82384            1.666667                1.25                 1.0   \n",
       "82356           24.666667               21.25                20.8   \n",
       "\n",
       "       sma_6_ventes_lag14  sma_7_ventes_lag14  sma_10_ventes_lag14  \\\n",
       "63                    NaN                 NaN                  NaN   \n",
       "72                    NaN                 NaN                  NaN   \n",
       "1                     NaN                 NaN                  NaN   \n",
       "24                    NaN                 NaN                  NaN   \n",
       "2                     NaN                 NaN                  NaN   \n",
       "...                   ...                 ...                  ...   \n",
       "82388           11.333333           11.714286                 12.2   \n",
       "82389            4.666667            4.571429                  4.8   \n",
       "82365           20.166667           21.285714                 23.8   \n",
       "82384            0.833333            0.714286                  2.5   \n",
       "82356           19.333333           19.142857                 22.2   \n",
       "\n",
       "       sma_13_ventes_lag14  ...  sma_34_ventes_lag14  Date_year  Date_month  \\\n",
       "63                     NaN  ...                  NaN       2020           1   \n",
       "72                     NaN  ...                  NaN       2020           1   \n",
       "1                      NaN  ...                  NaN       2020           1   \n",
       "24                     NaN  ...                  NaN       2020           1   \n",
       "2                      NaN  ...                  NaN       2020           1   \n",
       "...                    ...  ...                  ...        ...         ...   \n",
       "82388            11.076923  ...            11.764706       2023           4   \n",
       "82389             4.615385  ...             3.941176       2023           4   \n",
       "82365            21.461538  ...            21.941176       2023           4   \n",
       "82384             2.153846  ...             1.235294       2023           4   \n",
       "82356            20.769231  ...            23.411765       2023           4   \n",
       "\n",
       "       Date_day  Date_weekday  Date_weekend  lockdown  Description_ZoneA  \\\n",
       "63            2             3             0         0   Vacances de Noël   \n",
       "72            2             3             0         0   Vacances de Noël   \n",
       "1             2             3             0         0   Vacances de Noël   \n",
       "24            2             3             0         0   Vacances de Noël   \n",
       "2             2             3             0         0   Vacances de Noël   \n",
       "...         ...           ...           ...       ...                ...   \n",
       "82388         2             6             1         0               None   \n",
       "82389         2             6             1         0               None   \n",
       "82365         2             6             1         0               None   \n",
       "82384         2             6             1         0               None   \n",
       "82356         2             6             1         0               None   \n",
       "\n",
       "      Description_ZoneB Description_ZoneC  \n",
       "63     Vacances de Noël  Vacances de Noël  \n",
       "72     Vacances de Noël  Vacances de Noël  \n",
       "1      Vacances de Noël  Vacances de Noël  \n",
       "24     Vacances de Noël  Vacances de Noël  \n",
       "2      Vacances de Noël  Vacances de Noël  \n",
       "...                 ...               ...  \n",
       "82388              None              None  \n",
       "82389              None              None  \n",
       "82365              None              None  \n",
       "82384              None              None  \n",
       "82356              None              None  \n",
       "\n",
       "[82391 rows x 21 columns]"
      ]
     },
     "execution_count": 13,
     "metadata": {},
     "output_type": "execute_result"
    }
   ],
   "source": [
    "df_train"
   ]
  },
  {
   "cell_type": "code",
   "execution_count": 14,
   "metadata": {},
   "outputs": [],
   "source": [
    "# Define the categorical columns for the model\n",
    "feat_cat = [\"id\", \"Date_weekend\", \"lockdown\", \"Description_ZoneA\", \"Description_ZoneB\", \"Description_ZoneC\"]"
   ]
  },
  {
   "cell_type": "markdown",
   "metadata": {},
   "source": [
    "## 2.2 Split into folds\n",
    "\n",
    "The train set is split into folds using expanding window validation. It means, we select one portion of the set as the train set, and the portion after as the validation. Then the validation set is added to the train set and a period after is the new validation set, and so on.\n",
    "\n",
    "We consider that we need to predict the number of sales two weeks before in order to prepare everything (printing, delivery, etc.). Therefore, each window represents one week."
   ]
  },
  {
   "cell_type": "code",
   "execution_count": 15,
   "metadata": {},
   "outputs": [
    {
     "name": "stdout",
     "output_type": "stream",
     "text": [
      "Dates for the split: DatetimeIndex(['2023-01-22', '2023-02-05', '2023-02-19', '2023-03-05',\n",
      "               '2023-03-19', '2023-04-02'],\n",
      "              dtype='datetime64[ns]', freq='2W-SUN')\n"
     ]
    }
   ],
   "source": [
    "# Split the train set into different folds\n",
    "list_train_valid = get_split_cv_by_week(df_train.copy(), df_date_train, feat_date=feat_date, target=y_train, n_splits=5)"
   ]
  },
  {
   "cell_type": "markdown",
   "metadata": {},
   "source": [
    "# 3. Train model"
   ]
  },
  {
   "cell_type": "markdown",
   "metadata": {},
   "source": [
    "## 3.1 Cross validation and hyperparameters search\n",
    "\n",
    "Cross validation is used to train a model and analyze the performance on different windows.\n",
    "\n",
    "For the hyperparameters search, MLflow is used to track the different tests and save models. We log the hyperparameters, the metrics, and SHAP values to MLflow to save between the different runs.\n",
    "\n",
    "Bayesian optimisation could help find the best hyperparameters for the model with an optimized method to look in the right space for the hyper parameters search. However, it is very long and computation cost method so we stick with this simple search method. Plus, the default parameters of Catboost are good enough. \n",
    "\n",
    "\n",
    "\n",
    "__Run info__:\n",
    "\n",
    "The first metric used was RMSE. However, we consider that the goal is to limit the number of sold outs, a quantile metric has better performance."
   ]
  },
  {
   "cell_type": "code",
   "execution_count": 26,
   "metadata": {},
   "outputs": [
    {
     "name": "stderr",
     "output_type": "stream",
     "text": [
      "iteritems is deprecated and will be removed in a future version. Use .items instead.\n",
      "iteritems is deprecated and will be removed in a future version. Use .items instead.\n",
      "iteritems is deprecated and will be removed in a future version. Use .items instead.\n",
      "iteritems is deprecated and will be removed in a future version. Use .items instead.\n",
      "iteritems is deprecated and will be removed in a future version. Use .items instead.\n",
      "No data for colormapping provided via 'c'. Parameters 'vmin', 'vmax' will be ignored\n"
     ]
    },
    {
     "data": {
      "image/png": "[encoded data removed]",
      "text/plain": [
       "<Figure size 800x550 with 2 Axes>"
      ]
     },
     "metadata": {},
     "output_type": "display_data"
    }
   ],
   "source": [
    "params = {\n",
    "    \"iterations\": 1000,\n",
    "    \"depth\": 5,\n",
    "    # \"loss_function\": \"RMSE\",\n",
    "    \"loss_function\": \"Quantile:alpha=0.75\",\n",
    "    # \"learning_rate\": 0.07,\n",
    "    \"early_stopping_rounds\": 100,\n",
    "}\n",
    "\n",
    "model, pred_train, pred_valid = train_model_cv_mlflow(\n",
    "    list_train_valid=list_train_valid,\n",
    "    feat_cat=feat_cat, plot_training=False, verbose=0,\n",
    "    **params\n",
    ")"
   ]
  },
  {
   "cell_type": "markdown",
   "metadata": {},
   "source": [
    "## 3.2 Final model\n",
    "\n",
    "Train a final model on the entire train set using the hyperparameters selected by the previous runs"
   ]
  },
  {
   "cell_type": "code",
   "execution_count": 27,
   "metadata": {},
   "outputs": [
    {
     "name": "stdout",
     "output_type": "stream",
     "text": [
      "{'iterations': 992, 'depth': 5, 'loss_function': 'Quantile:alpha=0.75', 'early_stopping_rounds': 100, 'learning_rate': 0.029999999329447743}\n"
     ]
    },
    {
     "name": "stderr",
     "output_type": "stream",
     "text": [
      "iteritems is deprecated and will be removed in a future version. Use .items instead.\n"
     ]
    },
    {
     "data": {
      "application/vnd.jupyter.widget-view+json": {
       "model_id": "8913a76475f94a318f1299ea4538144d",
       "version_major": 2,
       "version_minor": 0
      },
      "text/plain": [
       "MetricVisualizer(layout=Layout(align_self='stretch', height='500px'))"
      ]
     },
     "metadata": {},
     "output_type": "display_data"
    },
    {
     "name": "stdout",
     "output_type": "stream",
     "text": [
      "0:\tlearn: 3.9872626\ttotal: 68.7ms\tremaining: 1m 8s\n"
     ]
    },
    {
     "name": "stderr",
     "output_type": "stream",
     "text": [
      "You should provide test set for use best model. use_best_model parameter has been switched to false value.\n"
     ]
    },
    {
     "name": "stdout",
     "output_type": "stream",
     "text": [
      "100:\tlearn: 3.8653928\ttotal: 1.88s\tremaining: 16.6s\n",
      "200:\tlearn: 3.8496112\ttotal: 3.73s\tremaining: 14.7s\n",
      "300:\tlearn: 3.8419649\ttotal: 5.57s\tremaining: 12.8s\n",
      "400:\tlearn: 3.8353038\ttotal: 7.39s\tremaining: 10.9s\n",
      "500:\tlearn: 3.8285145\ttotal: 9.23s\tremaining: 9.05s\n",
      "600:\tlearn: 3.8225038\ttotal: 11.1s\tremaining: 7.24s\n",
      "700:\tlearn: 3.8173379\ttotal: 12.8s\tremaining: 5.33s\n",
      "800:\tlearn: 3.8120979\ttotal: 14.6s\tremaining: 3.48s\n",
      "900:\tlearn: 3.8084682\ttotal: 16.3s\tremaining: 1.65s\n",
      "991:\tlearn: 3.8057626\ttotal: 17.8s\tremaining: 0us\n"
     ]
    }
   ],
   "source": [
    "params_final = params\n",
    "params_final[\"learning_rate\"] = model.get_all_params()[\"learning_rate\"]\n",
    "params_final[\"iterations\"] = model.get_best_iteration()\n",
    "print(params_final)\n",
    "\n",
    "pool_train = create_pool(df_train, y_train, feat_cat=feat_cat)\n",
    "model_final = train_model(pool_train=pool_train, pool_eval=None, plot_training=True, verbose=100, **params_final)\n",
    "save_model(model_final, features=df_train.columns.tolist(), feat_cat=feat_cat, path=\"../models/model_final.json\")"
   ]
  },
  {
   "cell_type": "code",
   "execution_count": null,
   "metadata": {},
   "outputs": [],
   "source": []
  }
 ],
 "metadata": {
  "kernelspec": {
   "display_name": "py310",
   "language": "python",
   "name": "python3"
  },
  "language_info": {
   "codemirror_mode": {
    "name": "ipython",
    "version": 3
   },
   "file_extension": ".py",
   "mimetype": "text/x-python",
   "name": "python",
   "nbconvert_exporter": "python",
   "pygments_lexer": "ipython3",
   "version": "3.10.9"
  },
  "orig_nbformat": 4
 },
 "nbformat": 4,
 "nbformat_minor": 2
}
